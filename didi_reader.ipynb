{
 "cells": [
  {
   "cell_type": "markdown",
   "metadata": {},
   "source": [
    "# process \"/obs1/gps/rtkfix\"  \"/velodyne_points\" and \"/image_raw\" \n",
    "- 生成 obs1_rtkfix as csv\n",
    "- 生成 top_bird_view as numpy.array\n",
    "- 生成 image as numpy.array and jpg"
   ]
  },
  {
   "cell_type": "code",
   "execution_count": 1,
   "metadata": {
    "collapsed": false
   },
   "outputs": [],
   "source": [
    "from __future__ import print_function\n",
    "import sensor_msgs.point_cloud2 as pc2\n",
    "import numpy as np\n",
    "import rosbag\n",
    "import os\n",
    "from PIL import Image\n",
    "import cv2\n",
    "import math\n",
    "from collections import defaultdict\n",
    "import pandas as pd\n",
    "# ROSBAG SETTINGS\n",
    "data_dir = \"/home/dl/db\"\n",
    "\n",
    "from tqdm import tqdm\n",
    "def process_msg(bag_name):\n",
    "    bag_file = os.path.join(data_dir, bag_name)\n",
    "\n",
    "    # OPEN ROSBAG\n",
    "    bag = rosbag.Bag(bag_file, \"r\")\n",
    "    pcl_messages = bag.read_messages(topics=[\"/velodyne_points\"])\n",
    "    n_lidar = bag.get_message_count(topic_filters=[\"/velodyne_points\"])\n",
    "    \n",
    "    img_messages = bag.read_messages(topics=[\"/image_raw\"])\n",
    "    n_img = bag.get_message_count(topic_filters=[\"/image_raw\"])\n",
    "    skip_cycle = 20  # generate images\n",
    "    \n",
    "    \n",
    "    obs_messages = bag.read_messages(topics=['/obs1/gps/rtkfix'])\n",
    "    n_obs = bag.get_message_count(topic_filters=['/obs1/gps/rtkfix'])\n",
    "    obs_dicts=defaultdict(list)\n",
    "    rtk_cols=[\"timestamp\", \"rx\", \"ry\", \"rz\", \"lx\", \"ly\", \"lz\"]\n",
    "    pbar = tqdm(total=n_obs)\n",
    "    \n",
    "    for i in range(n_obs):\n",
    "        pbar.update(1)\n",
    "        \n",
    "        # READ NEXT MESSAGE IN BAG\n",
    "        topic, msg, t  = obs_messages.next()\n",
    "        rtk2dict(msg,obs_dicts)\n",
    "    pbar.close()\n",
    "    obs_rtk_df = pd.DataFrame(data=obs_dicts, columns=rtk_cols)\n",
    "    obs_rtk_df.to_csv(os.path.join(data_dir+'/out_dir/'+bag_name.split('.')[0]+'/%s_rtk.csv' % bag_name), index=False)\n",
    "\n",
    "    \n",
    "    \n",
    "    \n",
    "    \n",
    "    \n",
    "    pbar = tqdm(total=n_img)\n",
    "   \n",
    "    for i in range(n_img):\n",
    "        pbar.update(1)\n",
    "        \n",
    "        # READ NEXT MESSAGE IN BAG\n",
    "        topic, msg, t  = img_messages.next()\n",
    "\n",
    "        # CONVERT MESSAGE TO A NUMPY ARRAY\n",
    "        img = np.fromstring(msg.data, dtype=np.uint8)\n",
    "        img = img.reshape(msg.height, msg.width)\n",
    "\n",
    "        # CONVERT TO RGB\n",
    "        img = cv2.cvtColor(img, cv2.COLOR_BayerGR2BGR)\n",
    "\n",
    "        # DO SOME PROCESSING ON THE IMAGE    \n",
    "        seqimg=msg.header.stamp.to_nsec()\n",
    "        save_np_csv(bag_name,img,seqimg,'/image_raw',saveimg=i % skip_cycle == 0)\n",
    "    pbar.close()\n",
    "\n",
    "    \n",
    "\n",
    "    \n",
    "    pbar = tqdm(total=n_lidar)\n",
    "    for i in range(n_lidar):\n",
    "        pbar.update(1)\n",
    "        # READ NEXT MESSAGE IN BAG\n",
    "        topic, msg, t = pcl_messages.next()\n",
    "\n",
    "        # CONVERT MESSAGE TO A NUMPY ARRAY OF POINT CLOUDS\n",
    "        # creates a Nx5 array: [x, y, z, reflectance, ring]\n",
    "        lidar = pc2.read_points(msg)\n",
    "        lidar = np.array(list(lidar))\n",
    "\n",
    "        # PROCESS THE POINT CLOUDS\n",
    "        top=pcl2top(lidar)\n",
    "        seqtop=msg.header.stamp.to_nsec()\n",
    "        save_np_csv(bag_name,top,seqtop,'/lidar')\n",
    "    pbar.close()\n",
    "    \n",
    "\n",
    "    \n",
    "\n",
    "\n",
    "\n",
    "    "
   ]
  },
  {
   "cell_type": "markdown",
   "metadata": {},
   "source": [
    "#  process pcl to top_bird_view \n",
    "- 数组形状: height,width,channel=400,400,8\n",
    "\n",
    "- 选择矩形区域height,width=40,40\n",
    "- 遍历所有点\n",
    "- 将稀疏空间划分为网格空间 0.1x0.1x6切片\n",
    "- 生成六层的height map\n",
    "- 生成intensity map \n",
    "- 生成mass map \n"
   ]
  },
  {
   "cell_type": "code",
   "execution_count": 2,
   "metadata": {
    "collapsed": true
   },
   "outputs": [],
   "source": [
    "\n",
    "TOP_Y_MIN=-20  #40  ###<todo> determine the correct values!\n",
    "TOP_Y_MAX=+20      ###<todo> determine the correct values!\n",
    "TOP_X_MIN=0\n",
    "TOP_X_MAX=40   #70.4 ###<todo> determine the correct values!\n",
    "TOP_Z_MIN=-2.0    ###<todo> determine the correct values!\n",
    "TOP_Z_MAX= 0.4    ###<todo> determine the correct values!\n",
    "\n",
    "TOP_X_DIVISION=0.1  #0.1\n",
    "TOP_Y_DIVISION=0.1\n",
    "TOP_Z_DIVISION=0.4\n",
    "def pcl2top(points):\n",
    "    X0, Xn = 0, int((TOP_X_MAX-TOP_X_MIN)//TOP_X_DIVISION)+1\n",
    "    Y0, Yn = 0, int((TOP_Y_MAX-TOP_Y_MIN)//TOP_Y_DIVISION)+1\n",
    "    Z0, Zn = 0, int((TOP_Z_MAX-TOP_Z_MIN)//TOP_Z_DIVISION)+1\n",
    "    height  = Yn - Y0\n",
    "    width   = Xn - X0\n",
    "    channel = Zn - Z0  + 2\n",
    "    pxs=points[:,0]\n",
    "    pys=points[:,1]\n",
    "    pzs=points[:,2]\n",
    "    prs=points[:,3]\n",
    "    tx=lambda x: ((x-TOP_X_MIN)//TOP_X_DIVISION).astype(np.int32)\n",
    "    ty=lambda y: ((y-TOP_Y_MIN)//TOP_Y_DIVISION).astype(np.int32)\n",
    "    tz=lambda z: ((z-TOP_Z_MIN)//TOP_Z_DIVISION).astype(np.int32)\n",
    "    nz=lambda z: ((z-TOP_Z_MIN)/TOP_Z_DIVISION)\n",
    "#     print('height,width,channel=%d,%d,%d'%(height,width,channel))\n",
    "    top = np.zeros(shape=(height,width,channel), dtype=np.float32)\n",
    "    ## start to make top  here !!!\n",
    "    ret=np.where((points[:,0]> TOP_X_MIN) & \\\n",
    "                 (points[:,0]<TOP_X_MAX) & \\\n",
    "                 (points[:,1]> TOP_Y_MIN) & \\\n",
    "                 (points[:,1]<TOP_Y_MAX) & \\\n",
    "                 (points[:,2]> TOP_Z_MIN) & \\\n",
    "                 (points[:,2]<TOP_Z_MAX) \n",
    "                )\n",
    "    ret_points=points[ret]\n",
    "    for i in ret_points:\n",
    "        top[tx(i[0])][ty(i[1])][Zn+1]+=1\n",
    "        if nz(i[2]) >top[tx(i[0])][ty(i[1])][tz(i[2])]:\n",
    "            top[tx(i[0])][ty(i[1])][tz(i[2])]=nz(i[2])\n",
    "            top[tx(i[0])][ty(i[1])][Zn]=i[3]\n",
    "    top[:,:,Zn+1] = np.log(top[:,:,Zn+1]+1)/math.log(64)\n",
    "        \n",
    "    return top\n"
   ]
  },
  {
   "cell_type": "code",
   "execution_count": 3,
   "metadata": {
    "collapsed": true
   },
   "outputs": [],
   "source": [
    "def save_np_csv(bag_name,data,seq,topic,saveimg=False):\n",
    "#     print bag_name,data.shape,seq\n",
    "    out_dir=data_dir+'/out_dir/'+bag_name.split('.')[0]+topic\n",
    "    if not os.path.exists(out_dir):\n",
    "        os.makedirs(out_dir)\n",
    "    np.save(out_dir+'/%05d.npy'%seq,data)\n",
    "    if saveimg:\n",
    "        cv2.imwrite(out_dir+'/%05d.jpg'%seq, data)\n",
    "        \n",
    "\n",
    "    "
   ]
  },
  {
   "cell_type": "code",
   "execution_count": 4,
   "metadata": {
    "collapsed": true
   },
   "outputs": [],
   "source": [
    "def rtk2dict(msg,rtk_dict):\n",
    "    \n",
    "    rtk_dict[\"timestamp\"].append(msg.header.stamp.to_nsec())\n",
    "\n",
    "    rtk_dict[\"lx\"].append(msg.twist.twist.linear.x) \n",
    "    rtk_dict[\"ly\"].append(msg.twist.twist.linear.y) \n",
    "    rtk_dict[\"lz\"].append(msg.twist.twist.linear.z)\n",
    "    rtk_dict[\"rx\"].append(msg.twist.twist.angular.x) \n",
    "    rtk_dict[\"ry\"].append(msg.twist.twist.angular.y) \n",
    "    rtk_dict[\"rz\"].append(msg.twist.twist.angular.z)\n",
    "    "
   ]
  },
  {
   "cell_type": "markdown",
   "metadata": {},
   "source": [
    "# 遍历所有bag"
   ]
  },
  {
   "cell_type": "code",
   "execution_count": 5,
   "metadata": {
    "collapsed": false
   },
   "outputs": [
    {
     "name": "stderr",
     "output_type": "stream",
     "text": [
      "100%|██████████| 121/121 [00:00<00:00, 981.54it/s]\n",
      "100%|██████████| 361/361 [00:23<00:00, 13.91it/s]\n",
      "100%|██████████| 120/120 [03:09<00:00,  1.77s/it]\n"
     ]
    }
   ],
   "source": [
    "def get_bags(data_dir):\n",
    "    bags=[]\n",
    "    for root, dirs, files in os.walk(data_dir):\n",
    "        for basename in files:\n",
    "            if basename.split('.')[1]=='bag':\n",
    "                bags.append(basename)\n",
    "    return bags\n",
    "bags=get_bags(data_dir)\n",
    "for bag_name in bags:\n",
    "    process_msg(bag_name)\n"
   ]
  },
  {
   "cell_type": "code",
   "execution_count": null,
   "metadata": {
    "collapsed": true
   },
   "outputs": [],
   "source": []
  }
 ],
 "metadata": {
  "kernelspec": {
   "display_name": "Python 2",
   "language": "python",
   "name": "python2"
  },
  "language_info": {
   "codemirror_mode": {
    "name": "ipython",
    "version": 2
   },
   "file_extension": ".py",
   "mimetype": "text/x-python",
   "name": "python",
   "nbconvert_exporter": "python",
   "pygments_lexer": "ipython2",
   "version": "2.7.6"
  }
 },
 "nbformat": 4,
 "nbformat_minor": 2
}
